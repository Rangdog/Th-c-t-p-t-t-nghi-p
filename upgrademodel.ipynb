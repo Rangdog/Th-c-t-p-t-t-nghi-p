{
 "cells": [
  {
   "cell_type": "code",
   "execution_count": 1,
   "metadata": {},
   "outputs": [],
   "source": [
    "import os\n",
    "import cv2\n",
    "import numpy as np\n",
    "import tensorflow as tf\n",
    "from tensorflow.keras.models import Sequential\n",
    "from tensorflow.keras.layers import Conv2D, MaxPooling2D, Flatten, Dense, GlobalAveragePooling2D, BatchNormalization, LeakyReLU,Dropout\n",
    "from tensorflow.keras.callbacks import ModelCheckpoint, EarlyStopping\n",
    "from tensorflow.keras.applications import MobileNetV2\n",
    "from tensorflow.keras.models import Model\n",
    "from tensorflow.keras.models import Sequential\n",
    "from tensorflow.keras.optimizers import Adam\n",
    "from sklearn.preprocessing import LabelEncoder\n",
    "from sklearn.model_selection import train_test_split\n",
    "from tensorflow.keras.utils import to_categorical"
   ]
  },
  {
   "cell_type": "code",
   "execution_count": null,
   "metadata": {},
   "outputs": [],
   "source": [
    "dataset_path = \"Data\\\\SOCOFing\\\\Real\"\n",
    "img_height, img_width = 96, 96\n",
    "\n",
    "data_paths = [\n",
    "    \"Data\\\\SOCOFing\\\\Real\",\n",
    "    \"Data\\\\SOCOFing\\\\Altered\\\\Altered-Easy\",\n",
    "    \"Data\\\\SOCOFing\\\\Altered\\\\Altered-Medium\",\n",
    "    \"Data\\SOCOFing\\Altered\\Altered-Hard\"  \n",
    "]\n",
    "def preprocess_images(img_path):\n",
    "    img = cv2.imread(img_path, cv2.IMREAD_GRAYSCALE)\n",
    "    img = cv2.resize(img, (img_width, img_height))\n",
    "    img = img.astype('float32') / 255.0\n",
    "    img = np.expand_dims(img, axis=-1)  # Add channel dimension\n",
    "    return img\n",
    "\n",
    "\n",
    "def load_dataset(data_paths):\n",
    "    images = []\n",
    "    labels = []\n",
    "    for path in data_paths:\n",
    "        for file in os.listdir(path):\n",
    "            if file.endswith(\".BMP\"):\n",
    "                img_path = os.path.join(path, file)\n",
    "                img = preprocess_images(img_path)\n",
    "                images.append(img)\n",
    "                label = int(file.split(\"__\")[0]) - 1\n",
    "                labels.append(label)\n",
    "    return np.array(images), np.array(labels)\n",
    "\n",
    "images, labels = load_dataset(data_paths)\n",
    "\n",
    "\n",
    "label_encoder = LabelEncoder()\n",
    "labels_encoded = label_encoder.fit_transform(labels)\n",
    "labels_categorical = to_categorical(labels_encoded)"
   ]
  },
  {
   "cell_type": "code",
   "execution_count": null,
   "metadata": {},
   "outputs": [],
   "source": [
    "def create_model():\n",
    "    model = Sequential([\n",
    "        Conv2D(32, (3, 3), input_shape=(img_height, img_width, 1)),\n",
    "        MaxPooling2D((2, 2)),\n",
    "        \n",
    "        Conv2D(64, (3, 3)),\n",
    "        MaxPooling2D((2, 2)),\n",
    "        \n",
    "        Conv2D(128, (3, 3)),\n",
    "        MaxPooling2D((2, 2)),\n",
    "        \n",
    "        Conv2D(256, (3, 3)),\n",
    "        MaxPooling2D((2, 2)),\n",
    "        \n",
    "        GlobalAveragePooling2D(),\n",
    "        \n",
    "        Dense(512, activation='relu'),\n",
    "        Dropout(0.5),\n",
    "        \n",
    "        Dense(256, activation='relu'),\n",
    "        Dropout(0.5),\n",
    "        \n",
    "        Dense(600, activation='softmax')  # Lớp đầu ra cho phân loại\n",
    "    ])\n",
    "    return model\n",
    "model = create_model()"
   ]
  },
  {
   "cell_type": "code",
   "execution_count": null,
   "metadata": {},
   "outputs": [],
   "source": [
    "model.compile(optimizer=Adam(learning_rate=0.0001),\n",
    "              loss='categorical_crossentropy',\n",
    "              metrics=['accuracy'])\n",
    "checkpoint = ModelCheckpoint('model.keras', save_best_only=True, monitor='val_loss', mode=\"min\")\n",
    "early_stopping = EarlyStopping(monitor = 'val_accuracy', patience = 15, mode=\"max\",restore_best_weights=True)"
   ]
  }
 ],
 "metadata": {
  "kernelspec": {
   "display_name": "venv",
   "language": "python",
   "name": "python3"
  },
  "language_info": {
   "codemirror_mode": {
    "name": "ipython",
    "version": 3
   },
   "file_extension": ".py",
   "mimetype": "text/x-python",
   "name": "python",
   "nbconvert_exporter": "python",
   "pygments_lexer": "ipython3",
   "version": "3.10.5"
  }
 },
 "nbformat": 4,
 "nbformat_minor": 2
}
